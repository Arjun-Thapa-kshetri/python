{
 "cells": [
  {
   "cell_type": "code",
   "execution_count": 1,
   "id": "637afa75",
   "metadata": {},
   "outputs": [
    {
     "name": "stdout",
     "output_type": "stream",
     "text": [
      "0 |1 |2 |\n",
      "\n",
      "0 |1 |2 |\n",
      "--+--+--\n",
      "2 |0 |1 |\n",
      "\n",
      "0 |1 |2 |\n",
      "--+--+--\n",
      "2 |0 |1 |\n",
      "--+--+--\n",
      "1 |2 |0 |\n",
      "\n",
      "0 |1 |2 |\n",
      "--+--+--\n",
      "2 |0 |1 |\n",
      "--+--+--\n",
      "1 |2 |0 |\n",
      "--+--+--\n",
      "0 |1 |2 |\n",
      "\n",
      "0 |1 |2 |3 |\n",
      "\n",
      "0 |1 |2 |3 |\n",
      "--+--+--\n",
      "3 |0 |1 |2 |\n",
      "\n",
      "0 |1 |2 |3 |\n",
      "--+--+--\n",
      "3 |0 |1 |2 |\n",
      "--+--+--\n",
      "2 |3 |0 |1 |\n",
      "\n",
      "0 |1 |2 |3 |\n",
      "--+--+--\n",
      "3 |0 |1 |2 |\n",
      "--+--+--\n",
      "2 |3 |0 |1 |\n",
      "--+--+--\n",
      "1 |2 |3 |0 |\n",
      "\n",
      "\n"
     ]
    }
   ],
   "source": [
    "def show_3(array):\n",
    "    for row in range(len(array)):\n",
    "        for col in range(len(array[row])):\n",
    "            a=len(array)\n",
    "            print(array[row][col],\"|\",end=\"\")        \n",
    "        print()  \n",
    "        if row < (len(array)-1):\n",
    "            print(\"--+--+--\")\n",
    "arrays = ([[0, 1, 2]],\n",
    "          [[0, 1, 2], [2, 0, 1]],\n",
    "          [[0, 1, 2], [2, 0, 1], \n",
    "           [1, 2, 0]],\n",
    "          [[0, 1, 2], [2, 0, 1], \n",
    "           [1, 2, 0], [0, 1, 2]],\n",
    "          [[0, 1, 2, 3]],\n",
    "          [[0, 1, 2, 3], [3, 0, 1, 2]],\n",
    "          [[0, 1, 2, 3], [3, 0, 1, 2],\n",
    "           [2, 3, 0, 1]],\n",
    "          [[0, 1, 2, 3], [3, 0, 1, 2],\n",
    "           [2, 3, 0, 1], [1, 2, 3, 0]])\n",
    "\n",
    "\n",
    "for array in arrays:\n",
    "    show_3(array)\n",
    "    print()\n",
    "print()"
   ]
  },
  {
   "cell_type": "code",
   "execution_count": null,
   "id": "9f4cf811",
   "metadata": {},
   "outputs": [],
   "source": []
  }
 ],
 "metadata": {
  "kernelspec": {
   "display_name": "Python 3 (ipykernel)",
   "language": "python",
   "name": "python3"
  },
  "language_info": {
   "codemirror_mode": {
    "name": "ipython",
    "version": 3
   },
   "file_extension": ".py",
   "mimetype": "text/x-python",
   "name": "python",
   "nbconvert_exporter": "python",
   "pygments_lexer": "ipython3",
   "version": "3.9.12"
  }
 },
 "nbformat": 4,
 "nbformat_minor": 5
}
