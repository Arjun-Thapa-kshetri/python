{
 "cells": [
  {
   "cell_type": "code",
   "execution_count": 1,
   "id": "59655f23",
   "metadata": {},
   "outputs": [
    {
     "name": "stdout",
     "output_type": "stream",
     "text": [
      "heron(3, 4, 5) = 6.0 : True\n",
      "heron(3, 5, 4) = 6.0 : True\n",
      "heron(4, 3, 5) = 6.0 : True\n",
      "heron(4, 5, 3) = 6.0 : True\n",
      "heron(5, 3, 4) = 6.0 : True\n",
      "heron(5, 4, 3) = 6.0 : True\n",
      "heron(4.5, 6, 7.5) = 13.5 : True\n",
      "heron(4.5, 7.5, 6) = 13.5 : True\n",
      "heron(6, 4.5, 7.5) = 13.5 : True\n",
      "heron(6, 7.5, 4.5) = 13.5 : True\n",
      "heron(7.5, 4.5, 6) = 13.5 : True\n",
      "heron(7.5, 6, 4.5) = 13.5 : True\n",
      "heron(6, 8, 10) = 24.0 : True\n",
      "heron(6, 10, 8) = 24.0 : True\n",
      "heron(8, 6, 10) = 24.0 : True\n",
      "heron(8, 10, 6) = 24.0 : True\n",
      "heron(10, 6, 8) = 24.0 : True\n",
      "heron(10, 8, 6) = 24.0 : True\n",
      "\n",
      "Congratulations!\n"
     ]
    }
   ],
   "source": [
    "#EX_2-2_M22W0385_Arjun_Thapa\n",
    "#####################################################\n",
    "# definition of function helon()\n",
    "#####################################################\n",
    "\n",
    "import math\n",
    "\n",
    "def heron(a, b, c):\n",
    "    \n",
    "    # 空白を埋めて関数の記述を完成させよ\n",
    "    \n",
    "    s = (a + b + c) / 2\n",
    "    return math.sqrt(s*(s-a)*(s-b)*(s-c))\n",
    "\n",
    "#####################################################\n",
    "# Test Vectors\n",
    "#####################################################\n",
    "\n",
    "test_vecs = ( #((a, b, c), exp)\n",
    "    ((3, 4, 5), 6.0), ((3, 5, 4), 6.0),\n",
    "    ((4, 3, 5), 6.0), ((4, 5, 3), 6.0),\n",
    "    ((5, 3, 4), 6.0), ((5, 4, 3), 6.0),\n",
    "    ((4.5, 6, 7.5), 13.5), ((4.5, 7.5, 6), 13.5),\n",
    "    ((6, 4.5, 7.5), 13.5), ((6, 7.5, 4.5), 13.5),\n",
    "    ((7.5, 4.5, 6), 13.5), ((7.5, 6, 4.5), 13.5),\n",
    "    ((6, 8, 10), 24.0), ((6, 10, 8), 24.0),\n",
    "    ((8, 6, 10), 24.0), ((8, 10, 6), 24.0),\n",
    "    ((10, 6, 8), 24.0), ((10, 8, 6), 24.0))\n",
    "\n",
    "#####################################################\n",
    "# Testbench for heron\n",
    "#####################################################\n",
    "\n",
    "success = True\n",
    "for ((a, b, c), exp) in test_vecs:\n",
    "    area = heron(a, b, c)\n",
    "    truth = (area == exp)\n",
    "    success &= truth\n",
    "    \n",
    "    print(f\"heron({a}, {b}, {c}) = {area}\"\\\n",
    "          f\" : {truth}\")\n",
    "\n",
    "print()\n",
    "if success:\n",
    "    print(\"Congratulations!\")\n",
    "else:\n",
    "    print(\"Try again!\")"
   ]
  },
  {
   "cell_type": "code",
   "execution_count": null,
   "id": "0112e23c",
   "metadata": {},
   "outputs": [],
   "source": []
  }
 ],
 "metadata": {
  "kernelspec": {
   "display_name": "Python 3 (ipykernel)",
   "language": "python",
   "name": "python3"
  },
  "language_info": {
   "codemirror_mode": {
    "name": "ipython",
    "version": 3
   },
   "file_extension": ".py",
   "mimetype": "text/x-python",
   "name": "python",
   "nbconvert_exporter": "python",
   "pygments_lexer": "ipython3",
   "version": "3.9.12"
  }
 },
 "nbformat": 4,
 "nbformat_minor": 5
}
