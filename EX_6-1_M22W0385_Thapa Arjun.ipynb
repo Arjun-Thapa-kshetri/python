{
 "cells": [
  {
   "cell_type": "code",
   "execution_count": 1,
   "id": "9f8cbd40",
   "metadata": {},
   "outputs": [
    {
     "name": "stdout",
     "output_type": "stream",
     "text": [
      "012\n",
      "\n",
      "012\n",
      "201\n",
      "\n",
      "012\n",
      "201\n",
      "120\n",
      "\n",
      "012\n",
      "201\n",
      "120\n",
      "012\n",
      "\n",
      "0123\n",
      "\n",
      "0123\n",
      "3012\n",
      "\n",
      "0123\n",
      "3012\n",
      "2301\n",
      "\n",
      "0123\n",
      "3012\n",
      "2301\n",
      "1230\n",
      "\n"
     ]
    }
   ],
   "source": [
    "def show_1(array):\n",
    "    for row in array:\n",
    "        for col in row:\n",
    "            print(col, end=\"\")\n",
    "        print()\n",
    "##################################################\n",
    "# test_show_1 : Testbench for show\n",
    "##################################################\n",
    "arrays = ([[0, 1, 2]],\n",
    "          [[0, 1, 2], [2, 0, 1]],\n",
    "          [[0, 1, 2], [2, 0, 1], \n",
    "           [1, 2, 0]],\n",
    "          [[0, 1, 2], [2, 0, 1], \n",
    "           [1, 2, 0], [0, 1, 2]],\n",
    "          [[0, 1, 2, 3]],\n",
    "          [[0, 1, 2, 3], [3, 0, 1, 2]],\n",
    "          [[0, 1, 2, 3], [3, 0, 1, 2],\n",
    "           [2, 3, 0, 1]],\n",
    "          [[0, 1, 2, 3], [3, 0, 1, 2],\n",
    "           [2, 3, 0, 1], [1, 2, 3, 0]])\n",
    "\n",
    "for array in arrays:\n",
    "    show_1(array)\n",
    "    print()"
   ]
  },
  {
   "cell_type": "code",
   "execution_count": null,
   "id": "bdec35f0",
   "metadata": {},
   "outputs": [],
   "source": []
  }
 ],
 "metadata": {
  "kernelspec": {
   "display_name": "Python 3 (ipykernel)",
   "language": "python",
   "name": "python3"
  },
  "language_info": {
   "codemirror_mode": {
    "name": "ipython",
    "version": 3
   },
   "file_extension": ".py",
   "mimetype": "text/x-python",
   "name": "python",
   "nbconvert_exporter": "python",
   "pygments_lexer": "ipython3",
   "version": "3.9.12"
  }
 },
 "nbformat": 4,
 "nbformat_minor": 5
}
