{
 "cells": [
  {
   "cell_type": "code",
   "execution_count": 1,
   "id": "04da23b1",
   "metadata": {},
   "outputs": [
    {
     "name": "stdout",
     "output_type": "stream",
     "text": [
      "P4(0) = 0\t: True\n",
      "P4(1) = 1\t: True\n",
      "P4(2) = 4\t: True\n",
      "P4(3) = 9\t: True\n",
      "P4(4) = 16\t: True\n",
      "P4(5) = 25\t: True\n",
      "P4(6) = 36\t: True\n",
      "P4(7) = 49\t: True\n",
      "P4(8) = 64\t: True\n",
      "P4(9) = 81\t: True\n",
      "\n",
      "Congratulations!\n"
     ]
    }
   ],
   "source": [
    "def P4(n) :\n",
    "    sum = 0\n",
    "    for i in range(n,n+1):\n",
    "        sum += (i * i)\n",
    "    return sum\n",
    "\n",
    "exp = (0, 1, 4, 9, 16, 25, 36, 49, 64, 81)\n",
    "\n",
    "success = True\n",
    "for n in range(10):\n",
    "    val = P4(n)\n",
    "    valid = (val == exp[n])\n",
    "    success &= valid\n",
    "    print(f\"P4({n}) = {val}\\t: {valid}\")\n",
    "\n",
    "print()\n",
    "if success:\n",
    "    print(\"Congratulations!\")\n",
    "else:\n",
    "    print(\"Try again!\")"
   ]
  },
  {
   "cell_type": "code",
   "execution_count": null,
   "id": "230b36d3",
   "metadata": {},
   "outputs": [],
   "source": []
  }
 ],
 "metadata": {
  "kernelspec": {
   "display_name": "Python 3 (ipykernel)",
   "language": "python",
   "name": "python3"
  },
  "language_info": {
   "codemirror_mode": {
    "name": "ipython",
    "version": 3
   },
   "file_extension": ".py",
   "mimetype": "text/x-python",
   "name": "python",
   "nbconvert_exporter": "python",
   "pygments_lexer": "ipython3",
   "version": "3.9.12"
  }
 },
 "nbformat": 4,
 "nbformat_minor": 5
}
