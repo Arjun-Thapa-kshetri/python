{
 "cells": [
  {
   "cell_type": "code",
   "execution_count": 1,
   "id": "57d3b661",
   "metadata": {},
   "outputs": [
    {
     "name": "stdout",
     "output_type": "stream",
     "text": [
      "P5(0) = 0 \t: True\n",
      "P5(1) = 1 \t: True\n",
      "P5(2) = 5 \t: True\n",
      "P5(3) = 12 \t: True\n",
      "P5(4) = 22 \t: True\n",
      "P5(5) = 35 \t: True\n",
      "P5(6) = 51 \t: True\n",
      "P5(7) = 70 \t: True\n",
      "P5(8) = 92 \t: True\n",
      "P5(9) = 117 \t: True\n",
      "\n",
      "Congratulations!\n"
     ]
    }
   ],
   "source": [
    "def P5(n): \n",
    "    sum = 0\n",
    "    for i in range(0,n):\n",
    "        sum = 3*n*(n-1)/2 + n\n",
    "    return int(sum)\n",
    "        \n",
    "\n",
    "exp = (0, 1, 5, 12, 22, 35, 51, 70, 92, 117)\n",
    "\n",
    "success = True\n",
    "for n in range(10):\n",
    "    val = P5(n)\n",
    "    valid = (val == exp[n])\n",
    "    success &= valid\n",
    "    print(f\"P5({n}) = {val} \\t: {valid}\")\n",
    "\n",
    "print()\n",
    "if success:\n",
    "    print(\"Congratulations!\")\n",
    "else:\n",
    "    print(\"Try again!\")"
   ]
  },
  {
   "cell_type": "code",
   "execution_count": null,
   "id": "01534767",
   "metadata": {},
   "outputs": [],
   "source": []
  }
 ],
 "metadata": {
  "kernelspec": {
   "display_name": "Python 3 (ipykernel)",
   "language": "python",
   "name": "python3"
  },
  "language_info": {
   "codemirror_mode": {
    "name": "ipython",
    "version": 3
   },
   "file_extension": ".py",
   "mimetype": "text/x-python",
   "name": "python",
   "nbconvert_exporter": "python",
   "pygments_lexer": "ipython3",
   "version": "3.9.12"
  }
 },
 "nbformat": 4,
 "nbformat_minor": 5
}
