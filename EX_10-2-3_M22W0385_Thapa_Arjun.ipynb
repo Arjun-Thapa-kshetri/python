{
 "cells": [
  {
   "cell_type": "code",
   "execution_count": 1,
   "id": "4dc75e59",
   "metadata": {},
   "outputs": [
    {
     "name": "stdout",
     "output_type": "stream",
     "text": [
      "prime_list_2(0) = [] : OK\n",
      "prime_list_2(1) = [] : OK\n",
      "prime_list_2(2) = [2] : OK\n",
      "prime_list_2(3) = [2, 3] : OK\n",
      "prime_list_2(4) = [2, 3] : OK\n",
      "prime_list_2(5) = [2, 3, 5] : OK\n",
      "prime_list_2(6) = [2, 3, 5] : OK\n",
      "prime_list_2(7) = [2, 3, 5, 7] : OK\n",
      "prime_list_2(8) = [2, 3, 5, 7] : OK\n",
      "prime_list_2(9) = [2, 3, 5, 7] : OK\n",
      "prime_list_2(10) = [2, 3, 5, 7] : OK\n",
      "prime_list_2(11) = [2, 3, 5, 7, 11] : OK\n",
      "prime_list_2(12) = [2, 3, 5, 7, 11] : OK\n",
      "prime_list_2(13) = [2, 3, 5, 7, 11, 13] : OK\n",
      "prime_list_2(14) = [2, 3, 5, 7, 11, 13] : OK\n",
      "prime_list_2(15) = [2, 3, 5, 7, 11, 13] : OK\n",
      "prime_list_2(16) = [2, 3, 5, 7, 11, 13] : OK\n",
      "prime_list_2(17) = [2, 3, 5, 7, 11, 13, 17] : OK\n",
      "prime_list_2(18) = [2, 3, 5, 7, 11, 13, 17] : OK\n",
      "prime_list_2(19) = [2, 3, 5, 7, 11, 13, 17, 19] : OK\n",
      "prime_list_2(20) = [2, 3, 5, 7, 11, 13, 17, 19] : OK\n",
      "prime_list_2(21) = [2, 3, 5, 7, 11, 13, 17, 19] : OK\n",
      "prime_list_2(22) = [2, 3, 5, 7, 11, 13, 17, 19] : OK\n",
      "prime_list_2(23) = [2, 3, 5, 7, 11, 13, 17, 19, 23] : OK\n",
      "prime_list_2(24) = [2, 3, 5, 7, 11, 13, 17, 19, 23] : OK\n",
      "prime_list_2(25) = [2, 3, 5, 7, 11, 13, 17, 19, 23] : OK\n",
      "prime_list_2(26) = [2, 3, 5, 7, 11, 13, 17, 19, 23] : OK\n",
      "prime_list_2(27) = [2, 3, 5, 7, 11, 13, 17, 19, 23] : OK\n",
      "prime_list_2(28) = [2, 3, 5, 7, 11, 13, 17, 19, 23] : OK\n",
      "prime_list_2(29) = [2, 3, 5, 7, 11, 13, 17, 19, 23, 29] : OK\n",
      "prime_list_2(30) = [2, 3, 5, 7, 11, 13, 17, 19, 23, 29] : OK\n",
      "prime_list_2(31) = [2, 3, 5, 7, 11, 13, 17, 19, 23, 29, 31] : OK\n",
      "prime_list_2(32) = [2, 3, 5, 7, 11, 13, 17, 19, 23, 29, 31] : OK\n",
      "prime_list_2(33) = [2, 3, 5, 7, 11, 13, 17, 19, 23, 29, 31] : OK\n",
      "prime_list_2(34) = [2, 3, 5, 7, 11, 13, 17, 19, 23, 29, 31] : OK\n",
      "prime_list_2(35) = [2, 3, 5, 7, 11, 13, 17, 19, 23, 29, 31] : OK\n",
      "prime_list_2(36) = [2, 3, 5, 7, 11, 13, 17, 19, 23, 29, 31] : OK\n",
      "prime_list_2(37) = [2, 3, 5, 7, 11, 13, 17, 19, 23, 29, 31, 37] : OK\n",
      "prime_list_2(38) = [2, 3, 5, 7, 11, 13, 17, 19, 23, 29, 31, 37] : OK\n",
      "prime_list_2(39) = [2, 3, 5, 7, 11, 13, 17, 19, 23, 29, 31, 37] : OK\n",
      "prime_list_2(40) = [2, 3, 5, 7, 11, 13, 17, 19, 23, 29, 31, 37] : OK\n",
      "prime_list_2(41) = [2, 3, 5, 7, 11, 13, 17, 19, 23, 29, 31, 37, 41] : OK\n",
      "prime_list_2(42) = [2, 3, 5, 7, 11, 13, 17, 19, 23, 29, 31, 37, 41] : OK\n",
      "prime_list_2(43) = [2, 3, 5, 7, 11, 13, 17, 19, 23, 29, 31, 37, 41, 43] : OK\n",
      "prime_list_2(44) = [2, 3, 5, 7, 11, 13, 17, 19, 23, 29, 31, 37, 41, 43] : OK\n",
      "prime_list_2(45) = [2, 3, 5, 7, 11, 13, 17, 19, 23, 29, 31, 37, 41, 43] : OK\n",
      "prime_list_2(46) = [2, 3, 5, 7, 11, 13, 17, 19, 23, 29, 31, 37, 41, 43] : OK\n",
      "prime_list_2(47) = [2, 3, 5, 7, 11, 13, 17, 19, 23, 29, 31, 37, 41, 43, 47] : OK\n",
      "prime_list_2(48) = [2, 3, 5, 7, 11, 13, 17, 19, 23, 29, 31, 37, 41, 43, 47] : OK\n",
      "prime_list_2(49) = [2, 3, 5, 7, 11, 13, 17, 19, 23, 29, 31, 37, 41, 43, 47] : OK\n",
      "prime_list_2(50) = [2, 3, 5, 7, 11, 13, 17, 19, 23, 29, 31, 37, 41, 43, 47] : OK\n",
      "\n",
      "Congratulations!\n"
     ]
    }
   ],
   "source": [
    "def prime_list_2(n):\n",
    "    primes = []\n",
    "    for i in range(2, n+1):\n",
    "        if (i == 1 or i == 0):\n",
    "            continue\n",
    "        else:\n",
    "            for x in range(2, int(i ** 0.5)+1):\n",
    "                if (i % x == 0):\n",
    "                    break\n",
    "            else:\n",
    "                primes.append(i)\n",
    "    return primes\n",
    "\n",
    "    ##################################################\n",
    "# Testbench for prime_list_2()\n",
    "##################################################\n",
    "\n",
    "primes_50 = [2, 3, 5, 7, 11, 13, 17, 19, 23, 29,\n",
    "             31, 37, 41, 43, 47]\n",
    "\n",
    "success = True\n",
    "for n in range(51):\n",
    "    primes = prime_list_2(n)\n",
    "    print(f\"prime_list_2({n}) = {primes}\", end=\" : \")\n",
    "    if primes == [p for p in primes_50 if p <= n]:\n",
    "        print(\"OK\")\n",
    "    else:\n",
    "        success = False\n",
    "        print(\"NG\")\n",
    "    \n",
    "if success:\n",
    "    print(\"\\nCongratulations!\")\n",
    "else:\n",
    "    print(\"Try again!\")"
   ]
  },
  {
   "cell_type": "code",
   "execution_count": 2,
   "id": "3ace9569",
   "metadata": {},
   "outputs": [
    {
     "name": "stdout",
     "output_type": "stream",
     "text": [
      "n =  1000 : 502 µs ± 1.17 µs per loop (mean ± std. dev. of 7 runs, 1,000 loops each)\n",
      "n =  2000 : 1.13 ms ± 9.92 µs per loop (mean ± std. dev. of 7 runs, 1,000 loops each)\n",
      "n =  3000 : 1.81 ms ± 1.69 µs per loop (mean ± std. dev. of 7 runs, 1,000 loops each)\n",
      "n =  4000 : 2.56 ms ± 30.2 µs per loop (mean ± std. dev. of 7 runs, 100 loops each)\n",
      "n =  5000 : 3.33 ms ± 5.98 µs per loop (mean ± std. dev. of 7 runs, 100 loops each)\n",
      "n =  6000 : 4.16 ms ± 20 µs per loop (mean ± std. dev. of 7 runs, 100 loops each)\n",
      "n =  7000 : 5.01 ms ± 24.3 µs per loop (mean ± std. dev. of 7 runs, 100 loops each)\n",
      "n =  8000 : 5.89 ms ± 31.5 µs per loop (mean ± std. dev. of 7 runs, 100 loops each)\n",
      "n =  9000 : 6.79 ms ± 26.8 µs per loop (mean ± std. dev. of 7 runs, 100 loops each)\n",
      "n = 10000 : 7.71 ms ± 14.4 µs per loop (mean ± std. dev. of 7 runs, 100 loops each)\n"
     ]
    }
   ],
   "source": [
    "##################################################\n",
    "# Timeit-2.py : Computation Time Measurement \n",
    "# for prime_list_2()\n",
    "##################################################\n",
    "\n",
    "for n in range(1000, 10001, 1000):\n",
    "    print(f\"{n = :5} : \", end = \"\")\n",
    "    %timeit primes = prime_list_2(n)"
   ]
  },
  {
   "cell_type": "code",
   "execution_count": 3,
   "id": "12a77825",
   "metadata": {},
   "outputs": [
    {
     "data": {
      "image/png": "[encoded data removed]",
      "text/plain": [
       "<Figure size 432x288 with 1 Axes>"
      ]
     },
     "metadata": {
      "needs_background": "light"
     },
     "output_type": "display_data"
    }
   ],
   "source": [
    "##################################################\n",
    "# plot_graph_1-2.py - plot graphs example \n",
    "# for prime_list_1 and prime_list_2\n",
    "##################################################\n",
    "\n",
    "import matplotlib.pyplot as plt\n",
    "\n",
    "x   = [1000*i for i in range(11)]\n",
    "y_1 = [0, 30.0, 60.0, 90.0, 120, 150, 180, 210, 240, 270, 300] # ms\n",
    "y_2 = [0,  1.0,  2.0,  3.0, 4.0, 5.0, 6.0, 7.0, 8.0, 9.0, 10.0] # ms\n",
    "\n",
    "fig = plt.figure(figsize=(6,4))\n",
    "ax = fig.add_subplot(1,1,1)\n",
    "\n",
    "ax.plot(x, y_1, label=\"prime_list_1\" )\n",
    "ax.plot(x, y_2, label=\"prime_list_2\")\n",
    "\n",
    "ax.grid()\n",
    "ax.set_title(\"prime_list_1 vs. prime_list_2\")\n",
    "ax.set_xlabel(\"checked numbers\")\n",
    "ax.set_ylabel(\"computation time (ms)\")\n",
    "ax.legend()\n",
    "\n",
    "plt.savefig(\"primes_1-2.png\")\n",
    "plt.show()"
   ]
  },
  {
   "cell_type": "code",
   "execution_count": null,
   "id": "1b93f9bc",
   "metadata": {},
   "outputs": [],
   "source": []
  }
 ],
 "metadata": {
  "kernelspec": {
   "display_name": "Python 3 (ipykernel)",
   "language": "python",
   "name": "python3"
  },
  "language_info": {
   "codemirror_mode": {
    "name": "ipython",
    "version": 3
   },
   "file_extension": ".py",
   "mimetype": "text/x-python",
   "name": "python",
   "nbconvert_exporter": "python",
   "pygments_lexer": "ipython3",
   "version": "3.9.12"
  }
 },
 "nbformat": 4,
 "nbformat_minor": 5
}
