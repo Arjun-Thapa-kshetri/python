{
 "cells": [
  {
   "cell_type": "code",
   "execution_count": 1,
   "id": "416e6f16",
   "metadata": {},
   "outputs": [
    {
     "name": "stdout",
     "output_type": "stream",
     "text": [
      "fizz_buzz(1) = 1 : True\n",
      "fizz_buzz(2) = 2 : True\n",
      "fizz_buzz(3) = Fizz : True\n",
      "fizz_buzz(4) = 4 : True\n",
      "fizz_buzz(5) = Buzz : True\n",
      "fizz_buzz(6) = Fizz : True\n",
      "fizz_buzz(7) = 7 : True\n",
      "fizz_buzz(8) = 8 : True\n",
      "fizz_buzz(9) = Fizz : True\n",
      "fizz_buzz(10) = Buzz : True\n",
      "fizz_buzz(11) = 11 : True\n",
      "fizz_buzz(12) = Fizz : True\n",
      "fizz_buzz(13) = 13 : True\n",
      "fizz_buzz(14) = 14 : True\n",
      "fizz_buzz(15) = FizzBuzz : True\n",
      "fizz_buzz(16) = 16 : True\n",
      "fizz_buzz(17) = 17 : True\n",
      "fizz_buzz(18) = Fizz : True\n",
      "fizz_buzz(19) = 19 : True\n",
      "fizz_buzz(20) = Buzz : True\n",
      "fizz_buzz(21) = Fizz : True\n",
      "fizz_buzz(22) = 22 : True\n",
      "fizz_buzz(23) = 23 : True\n",
      "fizz_buzz(24) = Fizz : True\n",
      "fizz_buzz(25) = Buzz : True\n",
      "fizz_buzz(26) = 26 : True\n",
      "fizz_buzz(27) = Fizz : True\n",
      "fizz_buzz(28) = 28 : True\n",
      "fizz_buzz(29) = 29 : True\n",
      "fizz_buzz(30) = FizzBuzz : True\n",
      "\n",
      "Congratulations!\n"
     ]
    }
   ],
   "source": [
    "############################################################\n",
    "# EX-3-2 Testbench for fizz_buzz(n)\n",
    "############################################################\n",
    "def fizz_buzz(n):\n",
    "    if n % 15 == 0:\n",
    "        return \"FizzBuzz\"\n",
    "    elif n % 3 == 0:\n",
    "        return \"Fizz\"\n",
    "    elif n % 5 == 0:\n",
    "        return \"Buzz\"\n",
    "    else:\n",
    "        return n\n",
    "exp = (1, 2, 'Fizz', 4, 'Buzz', 'Fizz', 7, 8, 'Fizz', \n",
    "       'Buzz', 11, 'Fizz', 13, 14, 'FizzBuzz', 16, 17, \n",
    "       'Fizz', 19, 'Buzz', 'Fizz', 22, 23, 'Fizz', 'Buzz', \n",
    "       26, 'Fizz', 28, 29, 'FizzBuzz')\n",
    "\n",
    "success = True\n",
    "for i in range(30):\n",
    "    n = i + 1\n",
    "    result = fizz_buzz(n)\n",
    "    passed  = (result == exp[i])\n",
    "    success = success and passed\n",
    "    print(f\"fizz_buzz({n}) = {result} : {passed}\")\n",
    "\n",
    "print()\n",
    "if success:\n",
    "    print(\"Congratulations!\")\n",
    "else:\n",
    "    print(\"Try again!\")  "
   ]
  },
  {
   "cell_type": "code",
   "execution_count": null,
   "id": "05684bc1",
   "metadata": {},
   "outputs": [],
   "source": []
  }
 ],
 "metadata": {
  "kernelspec": {
   "display_name": "Python 3 (ipykernel)",
   "language": "python",
   "name": "python3"
  },
  "language_info": {
   "codemirror_mode": {
    "name": "ipython",
    "version": 3
   },
   "file_extension": ".py",
   "mimetype": "text/x-python",
   "name": "python",
   "nbconvert_exporter": "python",
   "pygments_lexer": "ipython3",
   "version": "3.9.12"
  }
 },
 "nbformat": 4,
 "nbformat_minor": 5
}
