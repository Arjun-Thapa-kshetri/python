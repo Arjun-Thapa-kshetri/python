{
 "cells": [
  {
   "cell_type": "code",
   "execution_count": 1,
   "id": "aeece6c2",
   "metadata": {},
   "outputs": [
    {
     "name": "stdout",
     "output_type": "stream",
     "text": [
      "to_grade(-10) = L : True\n",
      "to_grade(0) = F : True\n",
      "to_grade(10) = F : True\n",
      "to_grade(30) = F : True\n",
      "to_grade(50) = F : True\n",
      "to_grade(59) = F : True\n",
      "to_grade(60) = C : True\n",
      "to_grade(69) = C : True\n",
      "to_grade(70) = B : True\n",
      "to_grade(79) = B : True\n",
      "to_grade(80) = A : True\n",
      "to_grade(89) = A : True\n",
      "to_grade(90) = A : True\n",
      "to_grade(95) = A : True\n",
      "to_grade(100) = A : True\n",
      "to_grade(110) = H : True\n",
      "\n",
      "Congratulations!\n"
     ]
    }
   ],
   "source": [
    "############################################################\n",
    "# EX-3-1-A: Testbench for to_grade(score)(revised)\n",
    "############################################################\n",
    "def to_grade(score):\n",
    "    if score >= 80 and score <= 100:\n",
    "        return \"A\"\n",
    "    elif score >= 70 and score <= 80:\n",
    "        return \"B\"\n",
    "    elif score >= 60 and score <= 70:\n",
    "        return \"C\"\n",
    "    elif score < 0:\n",
    "        return \"L\"\n",
    "    elif score > 100:\n",
    "        return \"H\"\n",
    "    \n",
    "    else:\n",
    "        return \"F\"\n",
    "\n",
    "test_vec = ((-10, \"L\"), ( 0, \"F\"),  (10, \"F\"),  (30, \"F\"),\n",
    "            (50, \"F\"),  (59, \"F\"),  (60, \"C\"),  (69, \"C\"),\n",
    "            (70, \"B\"),  (79, \"B\"),  (80, \"A\"),  (89, \"A\"),\n",
    "            (90, \"A\"),  (95, \"A\"),  (100, \"A\"), (110, \"H\"))\n",
    "\n",
    "success = True\n",
    "for score, exp in test_vec:\n",
    "    grade   = to_grade(score)\n",
    "    passed  = (grade == exp)\n",
    "    success = success and passed\n",
    "    print(f\"to_grade({score}) = {grade} : {passed}\")\n",
    "\n",
    "print()\n",
    "if success:\n",
    "    print(\"Congratulations!\")\n",
    "else:\n",
    "    print(\"Try again\")"
   ]
  },
  {
   "cell_type": "code",
   "execution_count": null,
   "id": "155931a9",
   "metadata": {},
   "outputs": [],
   "source": []
  }
 ],
 "metadata": {
  "kernelspec": {
   "display_name": "Python 3 (ipykernel)",
   "language": "python",
   "name": "python3"
  },
  "language_info": {
   "codemirror_mode": {
    "name": "ipython",
    "version": 3
   },
   "file_extension": ".py",
   "mimetype": "text/x-python",
   "name": "python",
   "nbconvert_exporter": "python",
   "pygments_lexer": "ipython3",
   "version": "3.9.12"
  }
 },
 "nbformat": 4,
 "nbformat_minor": 5
}
