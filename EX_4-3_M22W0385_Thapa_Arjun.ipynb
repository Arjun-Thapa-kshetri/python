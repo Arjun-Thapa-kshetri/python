{
 "cells": [
  {
   "cell_type": "code",
   "execution_count": 1,
   "id": "b6faf041",
   "metadata": {},
   "outputs": [
    {
     "name": "stdout",
     "output_type": "stream",
     "text": [
      "\n",
      "sep = ' '\n",
      "string = 'It rains cats and dogs.'\n",
      "result = ['It', 'rains', 'cats', 'and', 'dogs.'] : True\n",
      "\n",
      "sep = '/'\n",
      "string = 'It/rains/cats/and/dogs.'\n",
      "result = ['It', 'rains', 'cats', 'and', 'dogs.'] : True\n",
      "\n",
      "sep = '_'\n",
      "string = 'It_rains_cats_and_dogs.'\n",
      "result = ['It', 'rains', 'cats', 'and', 'dogs.'] : True\n",
      "\n",
      "Congratulations!\n"
     ]
    }
   ],
   "source": [
    "def split(sep, word_list):\n",
    "    string= sep.split(word_list)\n",
    "    return string\n",
    "\n",
    "word_list = ['It', 'rains', 'cats', 'and', 'dogs.']\n",
    "seps = (\" \", \"/\", \"_\")\n",
    "\n",
    "success = True\n",
    "for sep in seps:\n",
    "    print()\n",
    "    print(f\"{sep = }\")\n",
    "    string = sep.join(word_list)\n",
    "    print(f\"{string = }\")\n",
    "    result = split(string, sep)\n",
    "    truth = (result == word_list)\n",
    "    print(f\"{result = } : {truth}\")\n",
    "    success &= truth\n",
    "    \n",
    "print()\n",
    "if success:\n",
    "    print(\"Congratulations!\")\n",
    "else:\n",
    "    print(\"Try again!\")"
   ]
  },
  {
   "cell_type": "code",
   "execution_count": null,
   "id": "c6e64f8c",
   "metadata": {},
   "outputs": [],
   "source": []
  }
 ],
 "metadata": {
  "kernelspec": {
   "display_name": "Python 3 (ipykernel)",
   "language": "python",
   "name": "python3"
  },
  "language_info": {
   "codemirror_mode": {
    "name": "ipython",
    "version": 3
   },
   "file_extension": ".py",
   "mimetype": "text/x-python",
   "name": "python",
   "nbconvert_exporter": "python",
   "pygments_lexer": "ipython3",
   "version": "3.9.12"
  }
 },
 "nbformat": 4,
 "nbformat_minor": 5
}
