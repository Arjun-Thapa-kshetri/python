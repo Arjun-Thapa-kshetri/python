{
 "cells": [
  {
   "cell_type": "code",
   "execution_count": 1,
   "id": "68737369",
   "metadata": {},
   "outputs": [
    {
     "name": "stdout",
     "output_type": "stream",
     "text": [
      "\n",
      "iterable = []\n",
      "sep    = \" \"\n",
      "string = \"\" : True\n",
      "sep    = \"/\"\n",
      "string = \"\" : True\n",
      "sep    = \"--\"\n",
      "string = \"\" : True\n",
      "\n",
      "iterable = ['cats']\n",
      "sep    = \" \"\n",
      "string = \"cats\" : True\n",
      "sep    = \"/\"\n",
      "string = \"cats\" : True\n",
      "sep    = \"--\"\n",
      "string = \"cats\" : True\n",
      "\n",
      "iterable = ['It', 'rains', 'cats', 'and', 'dogs.']\n",
      "sep    = \" \"\n",
      "string = \"It rains cats and dogs.\" : True\n",
      "sep    = \"/\"\n",
      "string = \"It/rains/cats/and/dogs.\" : True\n",
      "sep    = \"--\"\n",
      "string = \"It--rains--cats--and--dogs.\" : True\n",
      "\n",
      "Congratulations!\n"
     ]
    }
   ],
   "source": [
    "def join(iterable, sep):\n",
    "    string = sep.join(iterable)\n",
    "    return string\n",
    "\n",
    "iterables = ([],\n",
    "             [\"cats\"],\n",
    "             ['It', 'rains', 'cats', 'and', 'dogs.'])\n",
    "seps      = [\" \", \"/\", \"--\"]\n",
    "   \n",
    "success = True\n",
    "for iterable in iterables:\n",
    "    print()\n",
    "    print(f\"{iterable = }\")\n",
    "    \n",
    "    for sep in seps:\n",
    "        string = join(iterable, sep)  \n",
    "        truth = (string == sep.join(iterable))\n",
    "        print(f'sep    = \"{sep}\"')\n",
    "        print(f'string = \"{string}\" : {truth}')\n",
    "        success &= truth\n",
    "        \n",
    "print()\n",
    "if success:\n",
    "    print(\"Congratulations!\")\n",
    "else:\n",
    "    print(\"Try again!\")"
   ]
  },
  {
   "cell_type": "code",
   "execution_count": null,
   "id": "050b70a5",
   "metadata": {},
   "outputs": [],
   "source": []
  }
 ],
 "metadata": {
  "kernelspec": {
   "display_name": "Python 3 (ipykernel)",
   "language": "python",
   "name": "python3"
  },
  "language_info": {
   "codemirror_mode": {
    "name": "ipython",
    "version": 3
   },
   "file_extension": ".py",
   "mimetype": "text/x-python",
   "name": "python",
   "nbconvert_exporter": "python",
   "pygments_lexer": "ipython3",
   "version": "3.9.12"
  }
 },
 "nbformat": 4,
 "nbformat_minor": 5
}
