{
 "cells": [
  {
   "cell_type": "code",
   "execution_count": 41,
   "id": "1dba5e39",
   "metadata": {},
   "outputs": [
    {
     "name": "stdout",
     "output_type": "stream",
     "text": [
      "prime_list_4(0) = [] : OK\n",
      "prime_list_4(1) = [] : OK\n",
      "prime_list_4(2) = [2] : OK\n",
      "prime_list_4(3) = [2, 3] : OK\n",
      "prime_list_4(4) = [2, 3] : OK\n",
      "prime_list_4(5) = [2, 3, 5] : OK\n",
      "prime_list_4(6) = [2, 3, 5] : OK\n",
      "prime_list_4(7) = [2, 3, 5, 7] : OK\n",
      "prime_list_4(8) = [2, 3, 5, 7] : OK\n",
      "prime_list_4(9) = [2, 3, 5, 7] : OK\n",
      "prime_list_4(10) = [2, 3, 5, 7] : OK\n",
      "prime_list_4(11) = [2, 3, 5, 7, 11] : OK\n",
      "prime_list_4(12) = [2, 3, 5, 7, 11] : OK\n",
      "prime_list_4(13) = [2, 3, 5, 7, 11, 13] : OK\n",
      "prime_list_4(14) = [2, 3, 5, 7, 11, 13] : OK\n",
      "prime_list_4(15) = [2, 3, 5, 7, 11, 13] : OK\n",
      "prime_list_4(16) = [2, 3, 5, 7, 11, 13] : OK\n",
      "prime_list_4(17) = [2, 3, 5, 7, 11, 13, 17] : OK\n",
      "prime_list_4(18) = [2, 3, 5, 7, 11, 13, 17] : OK\n",
      "prime_list_4(19) = [2, 3, 5, 7, 11, 13, 17, 19] : OK\n",
      "prime_list_4(20) = [2, 3, 5, 7, 11, 13, 17, 19] : OK\n",
      "prime_list_4(21) = [2, 3, 5, 7, 11, 13, 17, 19] : OK\n",
      "prime_list_4(22) = [2, 3, 5, 7, 11, 13, 17, 19] : OK\n",
      "prime_list_4(23) = [2, 3, 5, 7, 11, 13, 17, 19, 23] : OK\n",
      "prime_list_4(24) = [2, 3, 5, 7, 11, 13, 17, 19, 23] : OK\n",
      "prime_list_4(25) = [2, 3, 5, 7, 11, 13, 17, 19, 23] : OK\n",
      "prime_list_4(26) = [2, 3, 5, 7, 11, 13, 17, 19, 23] : OK\n",
      "prime_list_4(27) = [2, 3, 5, 7, 11, 13, 17, 19, 23] : OK\n",
      "prime_list_4(28) = [2, 3, 5, 7, 11, 13, 17, 19, 23] : OK\n",
      "prime_list_4(29) = [2, 3, 5, 7, 11, 13, 17, 19, 23, 29] : OK\n",
      "prime_list_4(30) = [2, 3, 5, 7, 11, 13, 17, 19, 23, 29] : OK\n",
      "prime_list_4(31) = [2, 3, 5, 7, 11, 13, 17, 19, 23, 29, 31] : OK\n",
      "prime_list_4(32) = [2, 3, 5, 7, 11, 13, 17, 19, 23, 29, 31] : OK\n",
      "prime_list_4(33) = [2, 3, 5, 7, 11, 13, 17, 19, 23, 29, 31] : OK\n",
      "prime_list_4(34) = [2, 3, 5, 7, 11, 13, 17, 19, 23, 29, 31] : OK\n",
      "prime_list_4(35) = [2, 3, 5, 7, 11, 13, 17, 19, 23, 29, 31] : OK\n",
      "prime_list_4(36) = [2, 3, 5, 7, 11, 13, 17, 19, 23, 29, 31] : OK\n",
      "prime_list_4(37) = [2, 3, 5, 7, 11, 13, 17, 19, 23, 29, 31, 37] : OK\n",
      "prime_list_4(38) = [2, 3, 5, 7, 11, 13, 17, 19, 23, 29, 31, 37] : OK\n",
      "prime_list_4(39) = [2, 3, 5, 7, 11, 13, 17, 19, 23, 29, 31, 37] : OK\n",
      "prime_list_4(40) = [2, 3, 5, 7, 11, 13, 17, 19, 23, 29, 31, 37] : OK\n",
      "prime_list_4(41) = [2, 3, 5, 7, 11, 13, 17, 19, 23, 29, 31, 37, 41] : OK\n",
      "prime_list_4(42) = [2, 3, 5, 7, 11, 13, 17, 19, 23, 29, 31, 37, 41] : OK\n",
      "prime_list_4(43) = [2, 3, 5, 7, 11, 13, 17, 19, 23, 29, 31, 37, 41, 43] : OK\n",
      "prime_list_4(44) = [2, 3, 5, 7, 11, 13, 17, 19, 23, 29, 31, 37, 41, 43] : OK\n",
      "prime_list_4(45) = [2, 3, 5, 7, 11, 13, 17, 19, 23, 29, 31, 37, 41, 43] : OK\n",
      "prime_list_4(46) = [2, 3, 5, 7, 11, 13, 17, 19, 23, 29, 31, 37, 41, 43] : OK\n",
      "prime_list_4(47) = [2, 3, 5, 7, 11, 13, 17, 19, 23, 29, 31, 37, 41, 43, 47] : OK\n",
      "prime_list_4(48) = [2, 3, 5, 7, 11, 13, 17, 19, 23, 29, 31, 37, 41, 43, 47] : OK\n",
      "prime_list_4(49) = [2, 3, 5, 7, 11, 13, 17, 19, 23, 29, 31, 37, 41, 43, 47] : OK\n",
      "prime_list_4(50) = [2, 3, 5, 7, 11, 13, 17, 19, 23, 29, 31, 37, 41, 43, 47] : OK\n",
      "\n",
      "Congratulations!\n"
     ]
    }
   ],
   "source": [
    "    \n",
    "def prime_list_4(n):\n",
    "    if n < 2:\n",
    "        return []\n",
    "    if n < 3:\n",
    "        return [2]\n",
    "    if n < 5:\n",
    "        return [2,3]\n",
    "    primes = [True] * (n+1)\n",
    "    for x in range(3, n, 2):  \n",
    "        if primes[x]: \n",
    "            primes[x*x::x] = [False] * len(primes[x*x::x])\n",
    "\n",
    "    return [2] + [x for x in range(3, n+1, 2) \n",
    "    if primes[x]] \n",
    "\n",
    "primes_50 = [2, 3, 5, 7, 11, 13, 17, 19, 23, 29,\n",
    "             31, 37, 41, 43, 47]\n",
    "\n",
    "success = True\n",
    "for n in range(51):\n",
    "    primes = prime_list_4(n)\n",
    "    print(f\"prime_list_4({n}) = {primes}\", end=\" : \")\n",
    "    if primes == [p for p in primes_50 if p <= n]:\n",
    "        print(\"OK\")\n",
    "    else:\n",
    "        success = False\n",
    "        print(\"NG\")\n",
    "    \n",
    "if success:\n",
    "    print(\"\\nCongratulations!\")\n",
    "else:\n",
    "    print(\"Try again!\")"
   ]
  },
  {
   "cell_type": "code",
   "execution_count": 42,
   "id": "bee124fb",
   "metadata": {},
   "outputs": [
    {
     "name": "stdout",
     "output_type": "stream",
     "text": [
      "n =  1000 : 127 µs ± 584 ns per loop (mean ± std. dev. of 7 runs, 10,000 loops each)\n",
      "n =  2000 : 259 µs ± 518 ns per loop (mean ± std. dev. of 7 runs, 1,000 loops each)\n",
      "n =  3000 : 392 µs ± 408 ns per loop (mean ± std. dev. of 7 runs, 1,000 loops each)\n",
      "n =  4000 : 534 µs ± 5.43 µs per loop (mean ± std. dev. of 7 runs, 1,000 loops each)\n",
      "n =  5000 : 676 µs ± 9.37 µs per loop (mean ± std. dev. of 7 runs, 1,000 loops each)\n",
      "n =  6000 : 806 µs ± 4.05 µs per loop (mean ± std. dev. of 7 runs, 1,000 loops each)\n",
      "n =  7000 : 951 µs ± 4.35 µs per loop (mean ± std. dev. of 7 runs, 1,000 loops each)\n",
      "n =  8000 : 1.09 ms ± 2.68 µs per loop (mean ± std. dev. of 7 runs, 1,000 loops each)\n",
      "n =  9000 : 1.23 ms ± 10.5 µs per loop (mean ± std. dev. of 7 runs, 1,000 loops each)\n",
      "n = 10000 : 1.35 ms ± 8.86 µs per loop (mean ± std. dev. of 7 runs, 1,000 loops each)\n"
     ]
    }
   ],
   "source": [
    "for n in range(1000, 10001, 1000):\n",
    "    print(f\"{n = :5} : \", end = \"\")\n",
    "    %timeit primes = prime_list_3(n)"
   ]
  },
  {
   "cell_type": "code",
   "execution_count": null,
   "id": "586583b9",
   "metadata": {},
   "outputs": [],
   "source": []
  }
 ],
 "metadata": {
  "kernelspec": {
   "display_name": "Python 3 (ipykernel)",
   "language": "python",
   "name": "python3"
  },
  "language_info": {
   "codemirror_mode": {
    "name": "ipython",
    "version": 3
   },
   "file_extension": ".py",
   "mimetype": "text/x-python",
   "name": "python",
   "nbconvert_exporter": "python",
   "pygments_lexer": "ipython3",
   "version": "3.9.12"
  }
 },
 "nbformat": 4,
 "nbformat_minor": 5
}
