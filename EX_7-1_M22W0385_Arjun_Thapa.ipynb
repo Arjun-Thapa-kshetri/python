{
 "cells": [
  {
   "cell_type": "code",
   "execution_count": 1,
   "id": "1a1c1266",
   "metadata": {},
   "outputs": [
    {
     "name": "stdout",
     "output_type": "stream",
     "text": [
      "P4(0) =   0 : True\n",
      "P4(1) =   1 : True\n",
      "P4(2) =   4 : True\n",
      "P4(3) =   9 : True\n",
      "P4(4) =  16 : True\n",
      "P4(5) =  25 : True\n",
      "P4(6) =  36 : True\n",
      "P4(7) =  49 : True\n",
      "P4(8) =  64 : True\n",
      "P4(9) =  81 : True\n",
      "\n",
      "Congratulations!\n"
     ]
    }
   ],
   "source": [
    "def P4(n):\n",
    "    if n == 0:\n",
    "        return 0\n",
    "    return P4(n-1)+2*n-1\n",
    "exp = (0, 1, 4, 9, 16, 25, 36, 49, 64, 81)\n",
    "\n",
    "success = True\n",
    "for n in range(10):\n",
    "    val = P4(n)\n",
    "    valid = (val == exp[n])\n",
    "    success &= valid\n",
    "    print(f\"P4({n}) = {val:3} : {valid}\")\n",
    "\n",
    "print()\n",
    "if success:\n",
    "    print(\"Congratulations!\")\n",
    "else:\n",
    "    print(\"Try again!\")"
   ]
  },
  {
   "cell_type": "code",
   "execution_count": null,
   "id": "bac1e262",
   "metadata": {},
   "outputs": [],
   "source": []
  }
 ],
 "metadata": {
  "kernelspec": {
   "display_name": "Python 3 (ipykernel)",
   "language": "python",
   "name": "python3"
  },
  "language_info": {
   "codemirror_mode": {
    "name": "ipython",
    "version": 3
   },
   "file_extension": ".py",
   "mimetype": "text/x-python",
   "name": "python",
   "nbconvert_exporter": "python",
   "pygments_lexer": "ipython3",
   "version": "3.9.12"
  }
 },
 "nbformat": 4,
 "nbformat_minor": 5
}
