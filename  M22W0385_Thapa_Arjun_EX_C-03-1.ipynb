{
 "cells": [
  {
   "cell_type": "code",
   "execution_count": 1,
   "id": "9203778b",
   "metadata": {},
   "outputs": [
    {
     "name": "stdout",
     "output_type": "stream",
     "text": [
      "No. 0 : board =  [0, 1, 2, 1, 2, 0, 2, 0, 1]\n",
      "\n",
      "- O X\n",
      "O X -\n",
      "X - O\n",
      "\n",
      "No. 1 : board =  [1, 2, 1, 2, 0, 2, 0, 1, 0]\n",
      "\n",
      "O X O\n",
      "X - X\n",
      "- O -\n",
      "\n",
      "No. 2 : board =  [2, 1, 2, 0, 2, 0, 1, 0, 1]\n",
      "\n",
      "X O X\n",
      "- X -\n",
      "O - O\n",
      "\n",
      "No. 3 : board =  [1, 2, 0, 2, 0, 1, 0, 1, 2]\n",
      "\n",
      "O X -\n",
      "X - O\n",
      "- O X\n",
      "\n"
     ]
    }
   ],
   "source": [
    "def show_board(board):\n",
    "  board_chars = []\n",
    "  for i in range(3):\n",
    "    row = []\n",
    "    for j in range(3):\n",
    "        if board[i*3 + j] == 0:\n",
    "            row.append(\"-\")\n",
    "        elif board[i*3 + j] == 1:\n",
    "            row.append(\"O\")\n",
    "        elif board[i*3 + j] == 2:\n",
    "            row.append(\"X\")\n",
    "    board_chars.append(row)\n",
    "\n",
    "  for row in board_chars:\n",
    "    print(\" \".join(row))\n",
    "\n",
    "\n",
    "##################################################\n",
    "# Testbench for show_board\n",
    "##################################################\n",
    "\n",
    "boards = [[0, 1, 2, 1, 2, 0, 2, 0, 1],\n",
    "          [1, 2, 1, 2, 0, 2, 0, 1, 0],\n",
    "          [2, 1, 2, 0, 2, 0, 1, 0, 1],\n",
    "          [1, 2, 0, 2, 0, 1, 0, 1, 2]]\n",
    "\n",
    "for num, board in enumerate(boards):\n",
    "    print(\"No.\", num, \": board = \", board)\n",
    "    print()\n",
    "    show_board(board)\n",
    "    print()\n"
   ]
  },
  {
   "cell_type": "code",
   "execution_count": null,
   "id": "8ba8abfc",
   "metadata": {},
   "outputs": [],
   "source": []
  }
 ],
 "metadata": {
  "kernelspec": {
   "display_name": "Python 3 (ipykernel)",
   "language": "python",
   "name": "python3"
  },
  "language_info": {
   "codemirror_mode": {
    "name": "ipython",
    "version": 3
   },
   "file_extension": ".py",
   "mimetype": "text/x-python",
   "name": "python",
   "nbconvert_exporter": "python",
   "pygments_lexer": "ipython3",
   "version": "3.9.12"
  }
 },
 "nbformat": 4,
 "nbformat_minor": 5
}
