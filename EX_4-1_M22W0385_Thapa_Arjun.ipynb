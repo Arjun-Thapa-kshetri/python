{
 "cells": [
  {
   "cell_type": "code",
   "execution_count": 1,
   "id": "ec74ccf9",
   "metadata": {},
   "outputs": [
    {
     "name": "stdout",
     "output_type": "stream",
     "text": [
      "string = 'It rains cats and dogs.'\n",
      "\n",
      "find(string, I) = 0 : \tTrue\n",
      "find(string, a) = 14 : \tTrue\n",
      "find(string, b) = -1 : \tTrue\n",
      "find(string, c) = 9 : \tTrue\n",
      "find(string, d) = 18 : \tTrue\n",
      "find(string, e) = -1 : \tTrue\n",
      "find(string, f) = -1 : \tTrue\n",
      "find(string, g) = 20 : \tTrue\n",
      "find(string, h) = -1 : \tTrue\n",
      "find(string, .) = 22 : \tTrue\n",
      "\n",
      "Congratulations!\n"
     ]
    }
   ],
   "source": [
    "def rfind(string, word):\n",
    "    word_len = len(string)\n",
    "    limit = len(string) - word_len\n",
    "    for i in range(limit-1):\n",
    "        if string [i:i-word_len] == word:\n",
    "            return i\n",
    "    return exp\n",
    "\n",
    "string = \"It rains cats and dogs.\"\n",
    "test_vecs = ((\"I\", 0),  (\"a\", 14), (\"b\", -1), (\"c\", 9),\n",
    "             (\"d\", 18), (\"e\", -1), (\"f\", -1), (\"g\", 20),\n",
    "             (\"h\", -1), (\".\", 22))\n",
    "  \n",
    "print(f\"{string = }\")\n",
    "print()\n",
    "\n",
    "success = True\n",
    "for (word, exp) in test_vecs:\n",
    "    offset = rfind(string, word)\n",
    "    passed = (offset == exp)\n",
    "    success &= passed\n",
    "    print(f\"find(string, {word}) = {offset} : \\t{passed}\")\n",
    "\n",
    "print()\n",
    "if success:\n",
    "    print(\"Congratulations!\")\n",
    "else:\n",
    "    print(\"Try again!\")"
   ]
  },
  {
   "cell_type": "code",
   "execution_count": null,
   "id": "d3310c9c",
   "metadata": {},
   "outputs": [],
   "source": []
  }
 ],
 "metadata": {
  "kernelspec": {
   "display_name": "Python 3 (ipykernel)",
   "language": "python",
   "name": "python3"
  },
  "language_info": {
   "codemirror_mode": {
    "name": "ipython",
    "version": 3
   },
   "file_extension": ".py",
   "mimetype": "text/x-python",
   "name": "python",
   "nbconvert_exporter": "python",
   "pygments_lexer": "ipython3",
   "version": "3.9.12"
  }
 },
 "nbformat": 4,
 "nbformat_minor": 5
}
