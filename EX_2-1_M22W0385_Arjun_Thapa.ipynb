{
 "cells": [
  {
   "cell_type": "code",
   "execution_count": 1,
   "id": "ccfb73b3",
   "metadata": {},
   "outputs": [
    {
     "name": "stdout",
     "output_type": "stream",
     "text": [
      "bmi(50, 1.5) = 22 : True\n",
      "bmi(50, 1.6) = 19 : True\n",
      "bmi(50, 1.7) = 17 : True\n",
      "bmi(50, 1.8) = 15 : True\n",
      "bmi(55, 1.5) = 24 : True\n",
      "bmi(55, 1.6) = 21 : True\n",
      "bmi(55, 1.7) = 19 : True\n",
      "bmi(55, 1.8) = 16 : True\n",
      "bmi(60, 1.5) = 26 : True\n",
      "bmi(60, 1.6) = 23 : True\n",
      "bmi(60, 1.7) = 20 : True\n",
      "bmi(60, 1.8) = 18 : True\n",
      "bmi(65, 1.5) = 28 : True\n",
      "bmi(65, 1.6) = 25 : True\n",
      "bmi(65, 1.7) = 22 : True\n",
      "bmi(65, 1.8) = 20 : True\n",
      "\n",
      "Congratulations!\n"
     ]
    }
   ],
   "source": [
    "def bmi(weight, height):\n",
    "    \n",
    "    bmi = int (weight / height ** 2)\n",
    "    return bmi\n",
    "   \n",
    "    \n",
    "\n",
    "test_vecs = ( #((weight, height), exp)\n",
    "    ((50, 1.5), 22), ((50, 1.6), 19),\n",
    "    ((50, 1.7), 17), ((50, 1.8), 15),\n",
    "    ((55, 1.5), 24), ((55, 1.6), 21),\n",
    "    ((55, 1.7), 19), ((55, 1.8), 16),\n",
    "    ((60, 1.5), 26), ((60, 1.6), 23),\n",
    "    ((60, 1.7), 20), ((60, 1.8), 18),\n",
    "    ((65, 1.5), 28), ((65, 1.6), 25),\n",
    "    ((65, 1.7), 22), ((65, 1.8), 20))\n",
    "\n",
    "\n",
    "success = True\n",
    "for ((weight, height), exp) in test_vecs:\n",
    "    value = bmi(weight, height)\n",
    "    truth = (value == exp)\n",
    "    success &= truth\n",
    "    \n",
    "    print(f\"bmi({weight}, {height}) = {value}\"\\\n",
    "          f\" : {truth}\")\n",
    "\n",
    "print()\n",
    "if success:\n",
    "    print(\"Congratulations!\")\n",
    "else:\n",
    "    print(\"Try again!\")"
   ]
  },
  {
   "cell_type": "code",
   "execution_count": null,
   "id": "a255ae5b",
   "metadata": {},
   "outputs": [],
   "source": []
  }
 ],
 "metadata": {
  "kernelspec": {
   "display_name": "Python 3 (ipykernel)",
   "language": "python",
   "name": "python3"
  },
  "language_info": {
   "codemirror_mode": {
    "name": "ipython",
    "version": 3
   },
   "file_extension": ".py",
   "mimetype": "text/x-python",
   "name": "python",
   "nbconvert_exporter": "python",
   "pygments_lexer": "ipython3",
   "version": "3.9.12"
  }
 },
 "nbformat": 4,
 "nbformat_minor": 5
}
