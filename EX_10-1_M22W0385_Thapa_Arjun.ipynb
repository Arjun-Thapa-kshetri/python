{
 "cells": [
  {
   "cell_type": "code",
   "execution_count": 1,
   "id": "11016fcd",
   "metadata": {},
   "outputs": [
    {
     "name": "stdout",
     "output_type": "stream",
     "text": [
      "prime_list_1(0) = [] : OK\n",
      "prime_list_1(1) = [] : OK\n",
      "prime_list_1(2) = [2] : OK\n",
      "prime_list_1(3) = [2, 3] : OK\n",
      "prime_list_1(4) = [2, 3] : OK\n",
      "prime_list_1(5) = [2, 3, 5] : OK\n",
      "prime_list_1(6) = [2, 3, 5] : OK\n",
      "prime_list_1(7) = [2, 3, 5, 7] : OK\n",
      "prime_list_1(8) = [2, 3, 5, 7] : OK\n",
      "prime_list_1(9) = [2, 3, 5, 7] : OK\n",
      "prime_list_1(10) = [2, 3, 5, 7] : OK\n",
      "prime_list_1(11) = [2, 3, 5, 7, 11] : OK\n",
      "prime_list_1(12) = [2, 3, 5, 7, 11] : OK\n",
      "prime_list_1(13) = [2, 3, 5, 7, 11, 13] : OK\n",
      "prime_list_1(14) = [2, 3, 5, 7, 11, 13] : OK\n",
      "prime_list_1(15) = [2, 3, 5, 7, 11, 13] : OK\n",
      "prime_list_1(16) = [2, 3, 5, 7, 11, 13] : OK\n",
      "prime_list_1(17) = [2, 3, 5, 7, 11, 13, 17] : OK\n",
      "prime_list_1(18) = [2, 3, 5, 7, 11, 13, 17] : OK\n",
      "prime_list_1(19) = [2, 3, 5, 7, 11, 13, 17, 19] : OK\n",
      "prime_list_1(20) = [2, 3, 5, 7, 11, 13, 17, 19] : OK\n",
      "prime_list_1(21) = [2, 3, 5, 7, 11, 13, 17, 19] : OK\n",
      "prime_list_1(22) = [2, 3, 5, 7, 11, 13, 17, 19] : OK\n",
      "prime_list_1(23) = [2, 3, 5, 7, 11, 13, 17, 19, 23] : OK\n",
      "prime_list_1(24) = [2, 3, 5, 7, 11, 13, 17, 19, 23] : OK\n",
      "prime_list_1(25) = [2, 3, 5, 7, 11, 13, 17, 19, 23] : OK\n",
      "prime_list_1(26) = [2, 3, 5, 7, 11, 13, 17, 19, 23] : OK\n",
      "prime_list_1(27) = [2, 3, 5, 7, 11, 13, 17, 19, 23] : OK\n",
      "prime_list_1(28) = [2, 3, 5, 7, 11, 13, 17, 19, 23] : OK\n",
      "prime_list_1(29) = [2, 3, 5, 7, 11, 13, 17, 19, 23, 29] : OK\n",
      "prime_list_1(30) = [2, 3, 5, 7, 11, 13, 17, 19, 23, 29] : OK\n",
      "prime_list_1(31) = [2, 3, 5, 7, 11, 13, 17, 19, 23, 29, 31] : OK\n",
      "prime_list_1(32) = [2, 3, 5, 7, 11, 13, 17, 19, 23, 29, 31] : OK\n",
      "prime_list_1(33) = [2, 3, 5, 7, 11, 13, 17, 19, 23, 29, 31] : OK\n",
      "prime_list_1(34) = [2, 3, 5, 7, 11, 13, 17, 19, 23, 29, 31] : OK\n",
      "prime_list_1(35) = [2, 3, 5, 7, 11, 13, 17, 19, 23, 29, 31] : OK\n",
      "prime_list_1(36) = [2, 3, 5, 7, 11, 13, 17, 19, 23, 29, 31] : OK\n",
      "prime_list_1(37) = [2, 3, 5, 7, 11, 13, 17, 19, 23, 29, 31, 37] : OK\n",
      "prime_list_1(38) = [2, 3, 5, 7, 11, 13, 17, 19, 23, 29, 31, 37] : OK\n",
      "prime_list_1(39) = [2, 3, 5, 7, 11, 13, 17, 19, 23, 29, 31, 37] : OK\n",
      "prime_list_1(40) = [2, 3, 5, 7, 11, 13, 17, 19, 23, 29, 31, 37] : OK\n",
      "prime_list_1(41) = [2, 3, 5, 7, 11, 13, 17, 19, 23, 29, 31, 37, 41] : OK\n",
      "prime_list_1(42) = [2, 3, 5, 7, 11, 13, 17, 19, 23, 29, 31, 37, 41] : OK\n",
      "prime_list_1(43) = [2, 3, 5, 7, 11, 13, 17, 19, 23, 29, 31, 37, 41, 43] : OK\n",
      "prime_list_1(44) = [2, 3, 5, 7, 11, 13, 17, 19, 23, 29, 31, 37, 41, 43] : OK\n",
      "prime_list_1(45) = [2, 3, 5, 7, 11, 13, 17, 19, 23, 29, 31, 37, 41, 43] : OK\n",
      "prime_list_1(46) = [2, 3, 5, 7, 11, 13, 17, 19, 23, 29, 31, 37, 41, 43] : OK\n",
      "prime_list_1(47) = [2, 3, 5, 7, 11, 13, 17, 19, 23, 29, 31, 37, 41, 43, 47] : OK\n",
      "prime_list_1(48) = [2, 3, 5, 7, 11, 13, 17, 19, 23, 29, 31, 37, 41, 43, 47] : OK\n",
      "prime_list_1(49) = [2, 3, 5, 7, 11, 13, 17, 19, 23, 29, 31, 37, 41, 43, 47] : OK\n",
      "prime_list_1(50) = [2, 3, 5, 7, 11, 13, 17, 19, 23, 29, 31, 37, 41, 43, 47] : OK\n",
      "\n",
      "Congratulations!\n"
     ]
    }
   ],
   "source": [
    "def prime_list_1(n):\n",
    "    primes = []\n",
    "    for i in range(2, n+1):\n",
    "        if (i == 1 or i == 0):\n",
    "            continue\n",
    "        else:\n",
    "            for x in range(2, int(i/2)+1):\n",
    "                if (i % x == 0):\n",
    "                    break\n",
    "            else:\n",
    "                primes.append(i)\n",
    "    return primes\n",
    "    \n",
    "primes_50 = [2, 3, 5, 7, 11, 13, 17, 19, 23, 29,\n",
    "             31, 37, 41, 43, 47]\n",
    "\n",
    "success = True\n",
    "for n in range(51):\n",
    "    primes = prime_list_1(n)\n",
    "    print(f\"prime_list_1({n}) = {primes}\", end=\" : \")\n",
    "    \n",
    "    if primes == [p for p in primes_50 if p <= n]:\n",
    "        print(\"OK\")\n",
    "    else:\n",
    "        success = False\n",
    "        print(\"NG\")\n",
    "\n",
    "print()\n",
    "if success:\n",
    "    print(\"Congratulations!\")\n",
    "else:\n",
    "    print(\"Try again!\")"
   ]
  },
  {
   "cell_type": "code",
   "execution_count": 2,
   "id": "35c8cfc4",
   "metadata": {},
   "outputs": [
    {
     "name": "stdout",
     "output_type": "stream",
     "text": [
      "n =  1000 : 1.82 ms ± 17.7 µs per loop (mean ± std. dev. of 7 runs, 1,000 loops each)\n",
      "n =  2000 : 6.88 ms ± 200 µs per loop (mean ± std. dev. of 7 runs, 100 loops each)\n",
      "n =  3000 : 14.7 ms ± 114 µs per loop (mean ± std. dev. of 7 runs, 100 loops each)\n",
      "n =  4000 : 25.6 ms ± 222 µs per loop (mean ± std. dev. of 7 runs, 10 loops each)\n",
      "n =  5000 : 39.1 ms ± 191 µs per loop (mean ± std. dev. of 7 runs, 10 loops each)\n",
      "n =  6000 : 55.9 ms ± 631 µs per loop (mean ± std. dev. of 7 runs, 10 loops each)\n",
      "n =  7000 : 75.9 ms ± 561 µs per loop (mean ± std. dev. of 7 runs, 10 loops each)\n",
      "n =  8000 : 97.2 ms ± 1.12 ms per loop (mean ± std. dev. of 7 runs, 10 loops each)\n",
      "n =  9000 : 124 ms ± 819 µs per loop (mean ± std. dev. of 7 runs, 10 loops each)\n",
      "n = 10000 : 155 ms ± 1.42 ms per loop (mean ± std. dev. of 7 runs, 10 loops each)\n"
     ]
    }
   ],
   "source": [
    "##################################################\n",
    "# Timeit-1.py : Computation Time Measurement \n",
    "# for prime_list_1()\n",
    "##################################################\n",
    "\n",
    "for n in range(1000, 10001, 1000):\n",
    "    print(f\"{n = :5} : \", end = \"\")\n",
    "    %timeit primes = prime_list_1(n)"
   ]
  },
  {
   "cell_type": "code",
   "execution_count": null,
   "id": "91301563",
   "metadata": {},
   "outputs": [],
   "source": []
  }
 ],
 "metadata": {
  "kernelspec": {
   "display_name": "Python 3 (ipykernel)",
   "language": "python",
   "name": "python3"
  },
  "language_info": {
   "codemirror_mode": {
    "name": "ipython",
    "version": 3
   },
   "file_extension": ".py",
   "mimetype": "text/x-python",
   "name": "python",
   "nbconvert_exporter": "python",
   "pygments_lexer": "ipython3",
   "version": "3.9.12"
  }
 },
 "nbformat": 4,
 "nbformat_minor": 5
}
