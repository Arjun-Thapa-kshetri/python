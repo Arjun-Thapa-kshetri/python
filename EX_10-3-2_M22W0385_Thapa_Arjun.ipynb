{
 "cells": [
  {
   "cell_type": "code",
   "execution_count": 2,
   "id": "641c1e7e",
   "metadata": {},
   "outputs": [
    {
     "name": "stdout",
     "output_type": "stream",
     "text": [
      "n =  1000 : 126 µs ± 53.3 ns per loop (mean ± std. dev. of 7 runs, 10,000 loops each)\n",
      "n =  2000 : 261 µs ± 3.44 µs per loop (mean ± std. dev. of 7 runs, 1,000 loops each)\n",
      "n =  3000 : 394 µs ± 2.13 µs per loop (mean ± std. dev. of 7 runs, 1,000 loops each)\n",
      "n =  4000 : 532 µs ± 2.91 µs per loop (mean ± std. dev. of 7 runs, 1,000 loops each)\n",
      "n =  5000 : 672 µs ± 7.2 µs per loop (mean ± std. dev. of 7 runs, 1,000 loops each)\n",
      "n =  6000 : 822 µs ± 20.8 µs per loop (mean ± std. dev. of 7 runs, 1,000 loops each)\n",
      "n =  7000 : 960 µs ± 10.7 µs per loop (mean ± std. dev. of 7 runs, 1,000 loops each)\n",
      "n =  8000 : 1.1 ms ± 16 µs per loop (mean ± std. dev. of 7 runs, 1,000 loops each)\n",
      "n =  9000 : 1.24 ms ± 19.5 µs per loop (mean ± std. dev. of 7 runs, 1,000 loops each)\n",
      "n = 10000 : 1.38 ms ± 12.3 µs per loop (mean ± std. dev. of 7 runs, 1,000 loops each)\n"
     ]
    }
   ],
   "source": [
    "def prime_list_3(n):\n",
    "    prime = [True for i in range(n+1)]\n",
    "    p = 2\n",
    "    while p * p <= n:\n",
    "      if prime[p]:   \n",
    "        for i in range(p * p, n + 1, p):\n",
    "          prime[i] = False\n",
    "      p += 1\n",
    "    primes = []\n",
    "    for p in range(2, n+1):\n",
    "      if prime[p]:\n",
    "        primes.append(p)    \n",
    "    return primes\n",
    "\n",
    "for n in range(1000, 10001, 1000):\n",
    "    print(f\"{n = :5} : \", end = \"\")\n",
    "    %timeit primes = prime_list_3(n)"
   ]
  },
  {
   "cell_type": "code",
   "execution_count": null,
   "id": "0ebea47f",
   "metadata": {},
   "outputs": [],
   "source": []
  }
 ],
 "metadata": {
  "kernelspec": {
   "display_name": "Python 3 (ipykernel)",
   "language": "python",
   "name": "python3"
  },
  "language_info": {
   "codemirror_mode": {
    "name": "ipython",
    "version": 3
   },
   "file_extension": ".py",
   "mimetype": "text/x-python",
   "name": "python",
   "nbconvert_exporter": "python",
   "pygments_lexer": "ipython3",
   "version": "3.9.12"
  }
 },
 "nbformat": 4,
 "nbformat_minor": 5
}
